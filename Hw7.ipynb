{
  "nbformat": 4,
  "nbformat_minor": 0,
  "metadata": {
    "colab": {
      "provenance": []
    },
    "kernelspec": {
      "name": "python3",
      "display_name": "Python 3"
    },
    "language_info": {
      "name": "python"
    }
  },
  "cells": [
    {
      "cell_type": "code",
      "source": [
        "import pandas as pd\n",
        "import numpy as np\n",
        "import matplotlib.pyplot as plt"
      ],
      "metadata": {
        "id": "YpDthGk5JWum"
      },
      "execution_count": 1,
      "outputs": []
    },
    {
      "cell_type": "code",
      "source": [
        "!pip install scikit-surprise"
      ],
      "metadata": {
        "colab": {
          "base_uri": "https://localhost:8080/"
        },
        "id": "rwBatjmVQcNX",
        "outputId": "05608929-8959-4031-9597-6eed54fedfa4"
      },
      "execution_count": 2,
      "outputs": [
        {
          "output_type": "stream",
          "name": "stdout",
          "text": [
            "Collecting scikit-surprise\n",
            "  Downloading scikit-surprise-1.1.3.tar.gz (771 kB)\n",
            "\u001b[2K     \u001b[90m━━━━━━━━━━━━━━━━━━━━━━━━━━━━━━━━━━━━━━━━\u001b[0m \u001b[32m772.0/772.0 kB\u001b[0m \u001b[31m4.2 MB/s\u001b[0m eta \u001b[36m0:00:00\u001b[0m\n",
            "\u001b[?25h  Preparing metadata (setup.py) ... \u001b[?25l\u001b[?25hdone\n",
            "Requirement already satisfied: joblib>=1.0.0 in /usr/local/lib/python3.10/dist-packages (from scikit-surprise) (1.3.2)\n",
            "Requirement already satisfied: numpy>=1.17.3 in /usr/local/lib/python3.10/dist-packages (from scikit-surprise) (1.25.2)\n",
            "Requirement already satisfied: scipy>=1.3.2 in /usr/local/lib/python3.10/dist-packages (from scikit-surprise) (1.11.4)\n",
            "Building wheels for collected packages: scikit-surprise\n",
            "  Building wheel for scikit-surprise (setup.py) ... \u001b[?25l\u001b[?25hdone\n",
            "  Created wheel for scikit-surprise: filename=scikit_surprise-1.1.3-cp310-cp310-linux_x86_64.whl size=3163007 sha256=3d0a9c01b431cdda83360c0d8a4e1c25d832cb599203d8691b364bdca6581b07\n",
            "  Stored in directory: /root/.cache/pip/wheels/a5/ca/a8/4e28def53797fdc4363ca4af740db15a9c2f1595ebc51fb445\n",
            "Successfully built scikit-surprise\n",
            "Installing collected packages: scikit-surprise\n",
            "Successfully installed scikit-surprise-1.1.3\n"
          ]
        }
      ]
    },
    {
      "cell_type": "code",
      "source": [
        "from surprise import Dataset, Reader\n",
        "from surprise.model_selection import cross_validate\n",
        "from surprise.prediction_algorithms import SVD, SVDpp, NMF\n",
        "\n",
        "\n",
        "data = Dataset.load_builtin('ml-100k')\n",
        "\n",
        "\n",
        "reader = Reader(rating_scale=(1, 5))\n",
        "\n",
        "\n",
        "dataset = data.build_full_trainset()\n",
        "\n",
        "\n",
        "svd_model = SVD()\n",
        "svd_cv_results = cross_validate(svd_model, data, cv=5, verbose=True)\n",
        "\n",
        "\n",
        "svdpp_model = SVDpp()\n",
        "svdpp_cv_results = cross_validate(svdpp_model, data, cv=5, verbose=True)\n",
        "\n",
        "\n",
        "nmf_model = NMF()\n",
        "nmf_cv_results = cross_validate(nmf_model, data, cv=5, verbose=True)\n",
        "\n",
        "\n",
        "print(\"SVD CV Results:\")\n",
        "for key, value in svd_cv_results.items():\n",
        "    print(key, ':', value)\n",
        "\n",
        "print(\"\\nSVD++ CV Results:\")\n",
        "for key, value in svdpp_cv_results.items():\n",
        "    print(key, ':', value)\n",
        "\n",
        "print(\"\\nNMF CV Results:\")\n",
        "for key, value in nmf_cv_results.items():\n",
        "    print(key, ':', value)\n"
      ],
      "metadata": {
        "colab": {
          "base_uri": "https://localhost:8080/"
        },
        "id": "ZRU07k_DKPg3",
        "outputId": "8754f4b8-c3d2-4c94-d474-3375eca5a1ca"
      },
      "execution_count": 3,
      "outputs": [
        {
          "output_type": "stream",
          "name": "stdout",
          "text": [
            "Dataset ml-100k could not be found. Do you want to download it? [Y/n] y\n",
            "Trying to download dataset from https://files.grouplens.org/datasets/movielens/ml-100k.zip...\n",
            "Done! Dataset ml-100k has been saved to /root/.surprise_data/ml-100k\n",
            "Evaluating RMSE, MAE of algorithm SVD on 5 split(s).\n",
            "\n",
            "                  Fold 1  Fold 2  Fold 3  Fold 4  Fold 5  Mean    Std     \n",
            "RMSE (testset)    0.9375  0.9431  0.9362  0.9380  0.9273  0.9364  0.0051  \n",
            "MAE (testset)     0.7389  0.7447  0.7385  0.7380  0.7306  0.7381  0.0045  \n",
            "Fit time          2.70    2.84    1.33    1.32    1.55    1.95    0.68    \n",
            "Test time         0.29    0.17    0.12    0.22    0.11    0.18    0.07    \n",
            "Evaluating RMSE, MAE of algorithm SVDpp on 5 split(s).\n",
            "\n",
            "                  Fold 1  Fold 2  Fold 3  Fold 4  Fold 5  Mean    Std     \n",
            "RMSE (testset)    0.9168  0.9195  0.9172  0.9263  0.9172  0.9194  0.0036  \n",
            "MAE (testset)     0.7181  0.7208  0.7185  0.7258  0.7205  0.7207  0.0028  \n",
            "Fit time          26.52   27.00   26.47   26.53   27.27   26.76   0.32    \n",
            "Test time         5.22    4.32    6.04    4.35    4.31    4.85    0.69    \n",
            "Evaluating RMSE, MAE of algorithm NMF on 5 split(s).\n",
            "\n",
            "                  Fold 1  Fold 2  Fold 3  Fold 4  Fold 5  Mean    Std     \n",
            "RMSE (testset)    0.9601  0.9731  0.9570  0.9621  0.9654  0.9635  0.0055  \n",
            "MAE (testset)     0.7539  0.7646  0.7545  0.7572  0.7583  0.7577  0.0038  \n",
            "Fit time          2.02    2.18    2.48    2.06    2.06    2.16    0.17    \n",
            "Test time         0.10    0.34    0.10    0.23    0.10    0.17    0.10    \n",
            "SVD CV Results:\n",
            "test_rmse : [0.93748511 0.94310716 0.93624079 0.93796756 0.92725689]\n",
            "test_mae : [0.73890147 0.74471171 0.73852608 0.73800941 0.73059439]\n",
            "fit_time : (2.6992366313934326, 2.843601942062378, 1.3287789821624756, 1.317291498184204, 1.5482935905456543)\n",
            "test_time : (0.28801703453063965, 0.16955995559692383, 0.11868596076965332, 0.22277402877807617, 0.11354422569274902)\n",
            "\n",
            "SVD++ CV Results:\n",
            "test_rmse : [0.91676405 0.91954976 0.91717294 0.92631843 0.91719166]\n",
            "test_mae : [0.71806958 0.72078473 0.71849246 0.72582868 0.72048081]\n",
            "fit_time : (26.524940252304077, 26.998245239257812, 26.47370958328247, 26.530536651611328, 27.271932125091553)\n",
            "test_time : (5.218098163604736, 4.323111534118652, 6.0401530265808105, 4.345820665359497, 4.314005613327026)\n",
            "\n",
            "NMF CV Results:\n",
            "test_rmse : [0.9600894  0.97311579 0.95698225 0.96214357 0.96536698]\n",
            "test_mae : [0.75390271 0.76460533 0.75446332 0.7572427  0.75834831]\n",
            "fit_time : (2.0236971378326416, 2.1788153648376465, 2.477189540863037, 2.0600075721740723, 2.0619735717773438)\n",
            "test_time : (0.09740805625915527, 0.3350191116333008, 0.10196328163146973, 0.23253130912780762, 0.0976247787475586)\n"
          ]
        }
      ]
    },
    {
      "cell_type": "code",
      "source": [
        "from surprise.model_selection import train_test_split\n",
        "trainset, testset = train_test_split(data, test_size=0.2, random_state=42)"
      ],
      "metadata": {
        "id": "xrrPoQTKOzPO"
      },
      "execution_count": 7,
      "outputs": []
    },
    {
      "cell_type": "code",
      "source": [
        "len(trainset.ur)"
      ],
      "metadata": {
        "colab": {
          "base_uri": "https://localhost:8080/"
        },
        "id": "QTw5PfjLc-Q7",
        "outputId": "3c3dc718-4037-41ed-cd65-5fba48e4858f"
      },
      "execution_count": 8,
      "outputs": [
        {
          "output_type": "execute_result",
          "data": {
            "text/plain": [
              "943"
            ]
          },
          "metadata": {},
          "execution_count": 8
        }
      ]
    },
    {
      "cell_type": "code",
      "source": [
        "#SVD++ модель\n",
        "\n",
        "svdpp_model = SVDpp()\n",
        "\n",
        "svdpp_model.fit(trainset)\n",
        "\n",
        "svdpp_predictions = svdpp_model.test(testset)\n",
        "\n",
        "for userID, movieID, actualRating, estimatedRating, _ in svdpp_predictions[:5]:\n",
        "    print(f\"User ID: {userID}, Movie ID: {movieID}, Predicted Rating: {estimatedRating}, Actual Rating: {actualRating}\")"
      ],
      "metadata": {
        "colab": {
          "base_uri": "https://localhost:8080/"
        },
        "id": "GIZW-XbSAA6i",
        "outputId": "b83694c4-2429-4dd7-b95b-f1fbae0d37f8"
      },
      "execution_count": 9,
      "outputs": [
        {
          "output_type": "stream",
          "name": "stdout",
          "text": [
            "User ID: 907, Movie ID: 143, Predicted Rating: 5, Actual Rating: 5.0\n",
            "User ID: 371, Movie ID: 210, Predicted Rating: 4.370187924333859, Actual Rating: 4.0\n",
            "User ID: 218, Movie ID: 42, Predicted Rating: 3.3371967149629405, Actual Rating: 4.0\n",
            "User ID: 829, Movie ID: 170, Predicted Rating: 3.7566055927697106, Actual Rating: 4.0\n",
            "User ID: 733, Movie ID: 277, Predicted Rating: 3.1529179020149414, Actual Rating: 1.0\n"
          ]
        }
      ]
    },
    {
      "cell_type": "code",
      "source": [
        "svdpp_predictions[942]"
      ],
      "metadata": {
        "colab": {
          "base_uri": "https://localhost:8080/"
        },
        "id": "qAU8BhwWdRn6",
        "outputId": "daaf157f-c87a-423a-d1ce-d2cd6ae83791"
      },
      "execution_count": 10,
      "outputs": [
        {
          "output_type": "execute_result",
          "data": {
            "text/plain": [
              "Prediction(uid='72', iid='382', r_ui=4.0, est=3.575044789860946, details={'was_impossible': False})"
            ]
          },
          "metadata": {},
          "execution_count": 10
        }
      ]
    },
    {
      "cell_type": "code",
      "source": [
        "#SVD модель\n",
        "\n",
        "svd_model = SVD()\n",
        "\n",
        "svd_model.fit(trainset)\n",
        "\n",
        "svd_predictions = svd_model.test(testset)\n",
        "\n",
        "for userID, movieID, actualRating, estimatedRating, _ in svd_predictions[:5]:\n",
        "    print(f\"User ID: {userID}, Movie ID: {movieID}, Predicted Rating: {estimatedRating}, Actual Rating: {actualRating}\")"
      ],
      "metadata": {
        "colab": {
          "base_uri": "https://localhost:8080/"
        },
        "id": "tXjZ2nfrAQTE",
        "outputId": "e50bcf29-ddff-42a9-9d4a-57947fbe0a47"
      },
      "execution_count": 12,
      "outputs": [
        {
          "output_type": "stream",
          "name": "stdout",
          "text": [
            "User ID: 907, Movie ID: 143, Predicted Rating: 4.912003608497428, Actual Rating: 5.0\n",
            "User ID: 371, Movie ID: 210, Predicted Rating: 4.249562096326871, Actual Rating: 4.0\n",
            "User ID: 218, Movie ID: 42, Predicted Rating: 3.510998865872586, Actual Rating: 4.0\n",
            "User ID: 829, Movie ID: 170, Predicted Rating: 4.121338746443783, Actual Rating: 4.0\n",
            "User ID: 733, Movie ID: 277, Predicted Rating: 2.9975198838275325, Actual Rating: 1.0\n"
          ]
        }
      ]
    },
    {
      "cell_type": "code",
      "source": [
        "#NMF модель\n",
        "\n",
        "nmf_model = NMF()\n",
        "\n",
        "nmf_model.fit(trainset)\n",
        "\n",
        "nmf_predictions = nmf_model.test(testset)\n",
        "\n",
        "for userID, movieID, actualRating, estimatedRating, _ in nmf_predictions[:5]:\n",
        "    print(f\"User ID: {userID}, Movie ID: {movieID}, Predicted Rating: {estimatedRating}, Actual Rating: {actualRating}\")"
      ],
      "metadata": {
        "colab": {
          "base_uri": "https://localhost:8080/"
        },
        "id": "FsMKfeujAe98",
        "outputId": "39c8eed5-d174-4000-db02-82a441ccf9cc"
      },
      "execution_count": 13,
      "outputs": [
        {
          "output_type": "stream",
          "name": "stdout",
          "text": [
            "User ID: 907, Movie ID: 143, Predicted Rating: 4.842622838674595, Actual Rating: 5.0\n",
            "User ID: 371, Movie ID: 210, Predicted Rating: 4.141075140198403, Actual Rating: 4.0\n",
            "User ID: 218, Movie ID: 42, Predicted Rating: 3.7492532716817193, Actual Rating: 4.0\n",
            "User ID: 829, Movie ID: 170, Predicted Rating: 4.020466873179384, Actual Rating: 4.0\n",
            "User ID: 733, Movie ID: 277, Predicted Rating: 3.007842984697638, Actual Rating: 1.0\n"
          ]
        }
      ]
    },
    {
      "cell_type": "code",
      "source": [
        "print(svdpp_predictions[200])\n",
        "print(svd_predictions[200])\n",
        "print(nmf_predictions[200])"
      ],
      "metadata": {
        "colab": {
          "base_uri": "https://localhost:8080/"
        },
        "id": "dUFOWVRQd3hI",
        "outputId": "313cce61-66d2-4da5-b21b-b38b3197d56c"
      },
      "execution_count": 18,
      "outputs": [
        {
          "output_type": "stream",
          "name": "stdout",
          "text": [
            "user: 410        item: 754        r_ui = 3.00   est = 2.95   {'was_impossible': False}\n",
            "user: 410        item: 754        r_ui = 3.00   est = 2.97   {'was_impossible': False}\n",
            "user: 410        item: 754        r_ui = 3.00   est = 3.09   {'was_impossible': False}\n"
          ]
        }
      ]
    },
    {
      "cell_type": "code",
      "source": [
        "(svdpp_predictions[200].est-svdpp_predictions[200].r_ui)**2"
      ],
      "metadata": {
        "colab": {
          "base_uri": "https://localhost:8080/"
        },
        "id": "G_LAtFxrfcq4",
        "outputId": "7dcfaea7-0798-449f-e888-e040073b0ce6"
      },
      "execution_count": 22,
      "outputs": [
        {
          "output_type": "execute_result",
          "data": {
            "text/plain": [
              "0.002886576761130607"
            ]
          },
          "metadata": {},
          "execution_count": 22
        }
      ]
    },
    {
      "cell_type": "code",
      "source": [
        "trainset = data.build_full_trainset()\n",
        "len(trainset.ur)"
      ],
      "metadata": {
        "colab": {
          "base_uri": "https://localhost:8080/"
        },
        "id": "QoPbrimaezG5",
        "outputId": "3d57af49-4eca-48c3-cf50-fc6973c7bfd8"
      },
      "execution_count": null,
      "outputs": [
        {
          "output_type": "execute_result",
          "data": {
            "text/plain": [
              "943"
            ]
          },
          "metadata": {},
          "execution_count": 122
        }
      ]
    },
    {
      "cell_type": "code",
      "source": [
        "def loss_2(prediction):\n",
        "  return (prediction.est-prediction.r_ui)**2"
      ],
      "metadata": {
        "id": "DT0uYuWFE-xC"
      },
      "execution_count": 59,
      "outputs": []
    },
    {
      "cell_type": "code",
      "source": [
        "data_array = np.arange(1, len(trainset.ur) )\n",
        "\n",
        "num_selections = 50\n",
        "\n",
        "random_selections = np.random.choice(data_array, num_selections, replace=False)\n",
        "print(f\"Random selections of {num_selections} items: {random_selections}, \\n\\n\")\n",
        "\n",
        "loss_svd = 0\n",
        "loss_svdpp = 0\n",
        "loss_nmf = 0\n",
        "for rand_select in random_selections:\n",
        "  loss_svd+=loss_2(svd_predictions[rand_select])\n",
        "  loss_svdpp += loss_2(svdpp_predictions[rand_select])\n",
        "  loss_nmf += loss_2(nmf_predictions[rand_select])\n",
        "\n",
        "print(f\"Loss SVD-method in {num_selections} random selections : = {loss_svd} \\n\")\n",
        "print(f\"Loss SVD++-method in {num_selections} random selections : = {loss_svdpp} \\n\")\n",
        "print(f\"Loss NMF-method in {num_selections} random selections : = {loss_nmf} \")"
      ],
      "metadata": {
        "colab": {
          "base_uri": "https://localhost:8080/"
        },
        "id": "2ufPSRA5iz9q",
        "outputId": "3203163d-650d-438e-ecc3-72847341f572"
      },
      "execution_count": 72,
      "outputs": [
        {
          "output_type": "stream",
          "name": "stdout",
          "text": [
            "Random selections of 50 items: [  5 460 101 127 679 503 224 570 299 641 906 935 854 840 922 664 319 735\n",
            " 578  51  60  83 518 827  88 848 778 614 694 260 291 468 376 348 608 648\n",
            " 757 544 823 818 758  96 881 193  65 140 331 902 928  87], \n",
            "\n",
            "\n",
            "Loss SVD-method in 50 random selections : = 44.03408613080503 \n",
            "\n",
            "Loss SVD++-method in 50 random selections : = 39.312398940420465 \n",
            "\n",
            "Loss NMF-method in 50 random selections : = 48.452787547997715 \n"
          ]
        }
      ]
    }
  ]
}